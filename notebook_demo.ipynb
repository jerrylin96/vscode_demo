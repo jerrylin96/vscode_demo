{
 "cells": [
  {
   "attachments": {},
   "cell_type": "markdown",
   "metadata": {},
   "source": [
    "# Importing packages"
   ]
  },
  {
   "cell_type": "code",
   "execution_count": 20,
   "metadata": {},
   "outputs": [],
   "source": [
    "import numpy as np\n",
    "import matplotlib.pyplot as plt\n",
    "import sys\n",
    "from typing import List\n",
    "import xarray as xr\n",
    "import seaborn as sns"
   ]
  },
  {
   "attachments": {},
   "cell_type": "markdown",
   "metadata": {},
   "source": [
    "# Run line by line and debug\n",
    "You can also view active variables at any time. If you are unsure about a function, you can peek it."
   ]
  },
  {
   "cell_type": "code",
   "execution_count": 27,
   "metadata": {
    "notebookRunGroups": {
     "groupValue": ""
    }
   },
   "outputs": [],
   "source": [
    "lonlat = xr.open_mfdataset([\"/ocean/projects/atm200007p/jlin96/longSPrun/AndKua_aqua_Base_training.cam2.h1.0001-01-19-00000.nc\", \\\n",
    "                            \"/ocean/projects/atm200007p/jlin96/longSPrun/AndKua_aqua_Base_training.cam2.h1.0001-01-20-00000.nc\"])\n",
    "\n",
    "def createPressureGrid(h1Data):\n",
    "    hyam = np.array(h1Data[\"hyam\"])\n",
    "    hybm = np.array(h1Data[\"hybm\"])\n",
    "    ps = np.array(h1Data[\"NNPS\"])\n",
    "    lats = np.array(h1Data[\"lat\"])\n",
    "    lons = np.array(h1Data[\"lon\"])\n",
    "    levs = 30\n",
    "    times = np.array(range(len(ps)))\n",
    "    pressureGrid = np.zeros([len(times), 30, len(lats), len(lons)])\n",
    "    for t in range(len(times)):\n",
    "        for lat in range(len(lats)):\n",
    "            for lon in range(len(lons)):\n",
    "                pressureGrid[t, :, lat, lon]  = hyam[t]*1e5 + ps[t][lat][lon]*hybm[t]\n",
    "    return np.diff(pressureGrid, axis = 1)\n",
    "pressures = np.mean(createPressureGrid(lonlat), axis = 0)[11:29,np.newaxis,:,:]\n",
    "mass_weights = pressures/sum(pressures.flatten())"
   ]
  },
  {
   "attachments": {},
   "cell_type": "markdown",
   "metadata": {},
   "source": [
    "# Manipulating cells\n",
    "I'll cover moving, changing, hiding, splitting, outline, and grouping here."
   ]
  },
  {
   "cell_type": "code",
   "execution_count": 8,
   "metadata": {
    "notebookRunGroups": {
     "groupValue": ""
    }
   },
   "outputs": [],
   "source": [
    "output_path = \"/ocean/projects/atm200007p/jlin96/CS274E_datasets/model_output_expanded/trace/\"\n",
    "\n",
    "with open(output_path + \"alternate_trace_4.npy\", 'rb') as f:\n",
    "    alternate_trace = np.load(f)\n",
    "\n",
    "with open(output_path + \"alternate_trace_8.npy\", 'rb') as f:\n",
    "    alternate_trace = np.load(f)\n"
   ]
  },
  {
   "cell_type": "code",
   "execution_count": null,
   "metadata": {},
   "outputs": [],
   "source": [
    "### showing the benefits of vscode jupyter cell manipulation"
   ]
  },
  {
   "cell_type": "code",
   "execution_count": 11,
   "metadata": {
    "notebookRunGroups": {
     "groupValue": ""
    }
   },
   "outputs": [
    {
     "data": {
      "text/plain": [
       "Text(0, 0.5, 'count')"
      ]
     },
     "execution_count": 11,
     "metadata": {},
     "output_type": "execute_result"
    },
    {
     "data": {
      "image/png": "[encoded data removed]",
      "text/plain": [
       "<Figure size 640x480 with 1 Axes>"
      ]
     },
     "metadata": {},
     "output_type": "display_data"
    }
   ],
   "source": [
    "flattrace = np.log10(sorted(alternate_trace.flatten()))\n",
    "sns.kdeplot(flattrace)\n",
    "plt.title(\"Histogram of uncertainty\")\n",
    "plt.xlabel(\"log trace\")\n",
    "plt.ylabel(\"count\")"
   ]
  },
  {
   "attachments": {},
   "cell_type": "markdown",
   "metadata": {},
   "source": [
    "# Showing off Github CoPilot"
   ]
  },
  {
   "cell_type": "code",
   "execution_count": 16,
   "metadata": {},
   "outputs": [],
   "source": [
    "with open(output_path + \"alternate_trace_4.npy\", 'rb') as f:\n",
    "    alternate_trace_4 = np.load(f)\n",
    "\n",
    "with open(output_path + \"alternate_trace_8.npy\", 'rb') as f:\n",
    "    alternate_trace_8 = np.load(f)\n",
    "\n",
    "flattrace_4 = np.log10(sorted(alternate_trace_4.flatten()))\n",
    "flattrace_8 = np.log10(sorted(alternate_trace_8.flatten()))"
   ]
  },
  {
   "cell_type": "code",
   "execution_count": null,
   "metadata": {},
   "outputs": [],
   "source": []
  },
  {
   "cell_type": "code",
   "execution_count": 21,
   "metadata": {},
   "outputs": [],
   "source": [
    "# find median of two sorted arrays\n",
    "class Solution:\n",
    "    def findMedianSortedArrays(self, nums1: List[int], nums2: List[int]) -> float:\n",
    "        nums = nums1 + nums2\n",
    "        nums.sort()\n",
    "        if len(nums) % 2 == 0:\n",
    "            return (nums[len(nums)//2] + nums[len(nums)//2 - 1])/2\n",
    "        else:\n",
    "            return nums[len(nums)//2]"
   ]
  },
  {
   "cell_type": "code",
   "execution_count": null,
   "metadata": {},
   "outputs": [],
   "source": [
    "# Rotate image by 90 degrees clockwise\n",
    "class Solution:\n",
    "    def rotate(self, matrix: List[List[int]]) -> None:\n",
    "        \"\"\"\n",
    "        Do not return anything, modify matrix in-place instead.\n",
    "        \"\"\"\n",
    "        matrix[:] = zip(*matrix[::-1]) # type: ignore"
   ]
  }
 ],
 "metadata": {
  "kernelspec": {
   "display_name": "Python 3 (ipykernel)",
   "language": "python",
   "name": "python3"
  },
  "language_info": {
   "codemirror_mode": {
    "name": "ipython",
    "version": 3
   },
   "file_extension": ".py",
   "mimetype": "text/x-python",
   "name": "python",
   "nbconvert_exporter": "python",
   "pygments_lexer": "ipython3",
   "version": "3.9.13"
  },
  "orig_nbformat": 4
 },
 "nbformat": 4,
 "nbformat_minor": 2
}
